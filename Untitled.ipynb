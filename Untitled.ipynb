{
 "cells": [
  {
   "cell_type": "code",
   "execution_count": 1,
   "id": "5d002e7e-3e73-43be-a2d3-5b5ea6ffc7e5",
   "metadata": {},
   "outputs": [
    {
     "name": "stdout",
     "output_type": "stream",
     "text": [
      "   Churn  AccountWeeks  ContractRenewal  DataPlan  DataUsage  CustServCalls  \\\n",
      "0      0           128                1         1        2.7              1   \n",
      "1      0           107                1         1        3.7              1   \n",
      "2      0           137                1         0        0.0              0   \n",
      "3      0            84                0         0        0.0              2   \n",
      "4      0            75                0         0        0.0              3   \n",
      "\n",
      "   DayMins  DayCalls  MonthlyCharge  OverageFee  RoamMins  \n",
      "0    265.1       110           89.0        9.87      10.0  \n",
      "1    161.6       123           82.0        9.78      13.7  \n",
      "2    243.4       114           52.0        6.06      12.2  \n",
      "3    299.4        71           57.0        3.10       6.6  \n",
      "4    166.7       113           41.0        7.42      10.1  \n",
      "<class 'pandas.core.frame.DataFrame'>\n",
      "RangeIndex: 3333 entries, 0 to 3332\n",
      "Data columns (total 11 columns):\n",
      " #   Column           Non-Null Count  Dtype  \n",
      "---  ------           --------------  -----  \n",
      " 0   Churn            3333 non-null   int64  \n",
      " 1   AccountWeeks     3333 non-null   int64  \n",
      " 2   ContractRenewal  3333 non-null   int64  \n",
      " 3   DataPlan         3333 non-null   int64  \n",
      " 4   DataUsage        3333 non-null   float64\n",
      " 5   CustServCalls    3333 non-null   int64  \n",
      " 6   DayMins          3333 non-null   float64\n",
      " 7   DayCalls         3333 non-null   int64  \n",
      " 8   MonthlyCharge    3333 non-null   float64\n",
      " 9   OverageFee       3333 non-null   float64\n",
      " 10  RoamMins         3333 non-null   float64\n",
      "dtypes: float64(5), int64(6)\n",
      "memory usage: 286.6 KB\n",
      "None\n"
     ]
    }
   ],
   "source": [
    "import pandas as pd\n",
    "\n",
    "# Replace 'your_filename.csv' with the actual name of the file\n",
    "df = pd.read_csv('C:/Users/kalya/Customer churn Reduction Analysis/telecom_churn.csv')\n",
    "\n",
    "# Step 1a: Inspect the first few rows to confirm it loaded correctly\n",
    "print(df.head())\n",
    "\n",
    "# Step 1b: Check data types and for missing values (crucial step!)\n",
    "print(df.info())"
   ]
  },
  {
   "cell_type": "code",
   "execution_count": 2,
   "id": "e9987d54-11bc-4a4f-b9fc-b8284a8d761c",
   "metadata": {},
   "outputs": [
    {
     "name": "stdout",
     "output_type": "stream",
     "text": [
      "Total Customers in Dataset: 3333\n",
      "Total Churned Customers: 483\n",
      "Baseline Churn Rate: 14.49%\n"
     ]
    }
   ],
   "source": [
    "# Assuming your DataFrame is named 'df'\n",
    "\n",
    "# 1. Calculate the total number of customers\n",
    "total_customers = len(df)\n",
    "\n",
    "# 2. Calculate the number of churned customers (since Churn is 1 for churned)\n",
    "churned_customers = df['Churn'].sum()\n",
    "\n",
    "# 3. Calculate the Baseline Churn Rate\n",
    "baseline_churn_rate = (churned_customers / total_customers) * 100\n",
    "\n",
    "print(f\"Total Customers in Dataset: {total_customers}\")\n",
    "print(f\"Total Churned Customers: {churned_customers}\")\n",
    "print(f\"Baseline Churn Rate: {baseline_churn_rate:.2f}%\")"
   ]
  },
  {
   "cell_type": "code",
   "execution_count": 3,
   "id": "65d22e07-9cf0-4832-92f0-cfb602c45216",
   "metadata": {},
   "outputs": [
    {
     "name": "stdout",
     "output_type": "stream",
     "text": [
      "--- Churn Rate by Contract Renewal (0=No Renewal, 1=Renewal) ---\n",
      "                 Total Customers  Churned Customers  Churn Rate\n",
      "ContractRenewal                                                \n",
      "0                            323                137   42.414861\n",
      "1                           3010                346   11.495017\n"
     ]
    }
   ],
   "source": [
    "churn_by_renewal = df.groupby('ContractRenewal')['Churn'].agg(['count', 'sum', 'mean'])\n",
    "\n",
    "# Rename columns for clarity\n",
    "churn_by_renewal.columns = ['Total Customers', 'Churned Customers', 'Churn Rate']\n",
    "\n",
    "# Convert 'Churn Rate' to percentage\n",
    "churn_by_renewal['Churn Rate'] = churn_by_renewal['Churn Rate'] * 100\n",
    "\n",
    "print(\"--- Churn Rate by Contract Renewal (0=No Renewal, 1=Renewal) ---\")\n",
    "print(churn_by_renewal)"
   ]
  },
  {
   "cell_type": "code",
   "execution_count": 4,
   "id": "130057bf-fbe4-48b9-82d3-82147ff6d3ce",
   "metadata": {},
   "outputs": [
    {
     "name": "stdout",
     "output_type": "stream",
     "text": [
      "\n",
      "--- Churn Rate by Data Plan (0=No Plan, 1=Has Plan) ---\n",
      "          Total Customers  Churned Customers  Churn Rate\n",
      "DataPlan                                                \n",
      "0                    2411                403   16.715056\n",
      "1                     922                 80    8.676790\n"
     ]
    }
   ],
   "source": [
    "churn_by_dataplan = df.groupby('DataPlan')['Churn'].agg(['count', 'sum', 'mean'])\n",
    "\n",
    "# Rename columns for clarity and convert to percentage\n",
    "churn_by_dataplan.columns = ['Total Customers', 'Churned Customers', 'Churn Rate']\n",
    "churn_by_dataplan['Churn Rate'] = churn_by_dataplan['Churn Rate'] * 100\n",
    "\n",
    "print(\"\\n--- Churn Rate by Data Plan (0=No Plan, 1=Has Plan) ---\")\n",
    "print(churn_by_dataplan)"
   ]
  },
  {
   "cell_type": "code",
   "execution_count": 5,
   "id": "25e55223-8326-4e04-8d58-5c8cc6aaa29e",
   "metadata": {},
   "outputs": [
    {
     "name": "stdout",
     "output_type": "stream",
     "text": [
      "\n",
      "--- Churn Rate by Customer Service Calls ---\n",
      "               Total Customers  Churned Customers  Churn Rate\n",
      "CustServCalls                                                \n",
      "0                          697                 92   13.199426\n",
      "1                         1181                122   10.330229\n",
      "2                          759                 87   11.462451\n",
      "3                          429                 44   10.256410\n",
      "4                          166                 76   45.783133\n",
      "5                           66                 40   60.606061\n",
      "6                           22                 14   63.636364\n",
      "7                            9                  5   55.555556\n",
      "8                            2                  1   50.000000\n",
      "9                            2                  2  100.000000\n"
     ]
    }
   ],
   "source": [
    "churn_by_service_calls = df.groupby('CustServCalls')['Churn'].agg(['count', 'sum', 'mean'])\n",
    "\n",
    "# Rename columns for clarity and convert to percentage\n",
    "churn_by_service_calls.columns = ['Total Customers', 'Churned Customers', 'Churn Rate']\n",
    "churn_by_service_calls['Churn Rate'] = churn_by_service_calls['Churn Rate'] * 100\n",
    "\n",
    "print(\"\\n--- Churn Rate by Customer Service Calls ---\")\n",
    "print(churn_by_service_calls)"
   ]
  },
  {
   "cell_type": "code",
   "execution_count": 6,
   "id": "4e48f313-bf63-41ac-8acf-f3213258a793",
   "metadata": {},
   "outputs": [
    {
     "name": "stdout",
     "output_type": "stream",
     "text": [
      "\n",
      "--- CRITICAL SEGMENT: Churn Rate for Customers Who Did NOT Renew by Service Calls ---\n",
      "               Total in Segment  Churned  Churn Rate\n",
      "CustServCalls                                       \n",
      "0                            83       39   46.987952\n",
      "1                           112       40   35.714286\n",
      "2                            62       24   38.709677\n",
      "3                            38       15   39.473684\n",
      "4                            21       12   57.142857\n",
      "5                             6        6  100.000000\n",
      "9                             1        1  100.000000\n"
     ]
    }
   ],
   "source": [
    "# Create a filter to select only customers who did NOT renew (ContractRenewal == 0)\n",
    "no_renewal_df = df[df['ContractRenewal'] == 0]\n",
    "\n",
    "# Group this filtered DataFrame by Customer Service Calls\n",
    "critical_segment = no_renewal_df.groupby('CustServCalls')['Churn'].agg(['count', 'sum', 'mean'])\n",
    "\n",
    "# Rename and format for final presentation\n",
    "critical_segment.columns = ['Total in Segment', 'Churned', 'Churn Rate']\n",
    "critical_segment['Churn Rate'] = critical_segment['Churn Rate'] * 100\n",
    "\n",
    "print(\"\\n--- CRITICAL SEGMENT: Churn Rate for Customers Who Did NOT Renew by Service Calls ---\")\n",
    "print(critical_segment)"
   ]
  },
  {
   "cell_type": "code",
   "execution_count": 7,
   "id": "6012227d-d1e7-460a-8d14-2b344121d4b5",
   "metadata": {},
   "outputs": [
    {
     "name": "stdout",
     "output_type": "stream",
     "text": [
      "Total Customers in Critical Segment (No Renewal & >= 4 Calls): 28\n",
      "Average Monthly Charge for this segment: $59.50\n"
     ]
    }
   ],
   "source": [
    "# 1. Define the Critical Segment Filter (Customers who Did Not Renew AND called >= 4 times)\n",
    "# You can combine 4, 5, and 9 calls, or focus on just 4+ calls for a conservative, high-impact group.\n",
    "# Let's use >= 4 calls:\n",
    "critical_segment_df = df[(df['ContractRenewal'] == 0) & (df['CustServCalls'] >= 4)]\n",
    "\n",
    "# 2. Get the key metrics for this group\n",
    "total_at_risk_customers = len(critical_segment_df)\n",
    "avg_monthly_charge = critical_segment_df['MonthlyCharge'].mean()\n",
    "\n",
    "print(f\"Total Customers in Critical Segment (No Renewal & >= 4 Calls): {total_at_risk_customers}\")\n",
    "print(f\"Average Monthly Charge for this segment: ${avg_monthly_charge:.2f}\")"
   ]
  },
  {
   "cell_type": "code",
   "execution_count": 8,
   "id": "41a621cf-e6e6-47f8-a593-52b36fe1a4d9",
   "metadata": {},
   "outputs": [
    {
     "name": "stdout",
     "output_type": "stream",
     "text": [
      "Current Churn Rate for Critical Segment: 67.86%\n",
      "Target Churn Rate after intervention: 30.00%\n",
      "Target Reduction Rate: 37.86%\n",
      "----------------------------------------\n",
      "PROJECTED ANNUAL REVENUE SAVED: $7,568.40\n"
     ]
    }
   ],
   "source": [
    "# Assuming you ran the code to get total_at_risk_customers = 28 and avg_monthly_charge = 59.58\n",
    "\n",
    "# 1. Define the High-Risk Segment Churn Rate (Calculated as 19/28 from the output)\n",
    "churn_rate_high_risk = 19 / 28\n",
    "\n",
    "# 2. Define the Target Churn Rate for the Intervention (A realistic goal, e.g., 30% or 0.30)\n",
    "target_churn_rate = 0.30\n",
    "\n",
    "# 3. Calculate the Target Reduction Rate (The percentage we aim to save)\n",
    "target_reduction_rate = churn_rate_high_risk - target_churn_rate\n",
    "\n",
    "# 4. Calculate Annual Revenue Saved (The Resume Number)\n",
    "annual_revenue_saved = total_at_risk_customers * avg_monthly_charge * 12 * target_reduction_rate\n",
    "\n",
    "print(f\"Current Churn Rate for Critical Segment: {churn_rate_high_risk * 100:.2f}%\")\n",
    "print(f\"Target Churn Rate after intervention: {target_churn_rate * 100:.2f}%\")\n",
    "print(f\"Target Reduction Rate: {target_reduction_rate * 100:.2f}%\")\n",
    "print(\"-\" * 40)\n",
    "print(f\"PROJECTED ANNUAL REVENUE SAVED: ${annual_revenue_saved:,.2f}\")"
   ]
  },
  {
   "cell_type": "code",
   "execution_count": null,
   "id": "e4584748-78d5-4178-9b22-418b637621bf",
   "metadata": {},
   "outputs": [],
   "source": []
  },
  {
   "cell_type": "code",
   "execution_count": 12,
   "id": "4b1ce2d7-787b-4a5a-81ec-fa772dbe3810",
   "metadata": {},
   "outputs": [
    {
     "name": "stdout",
     "output_type": "stream",
     "text": [
      "\n",
      "--- FINAL STRATEGIC CHURN BREAKDOWN (No Renewal Customers) ---\n",
      "                                   Total in Segment  Churn Rate (%)\n",
      "Service_Friction                                                   \n",
      "High Friction (>= 4 Calls)                       28       67.857143\n",
      "Low/Moderate Friction (< 4 Calls)               295       40.000000\n"
     ]
    }
   ],
   "source": [
    "# 1. Isolate the entire \"No Renewal\" customer base (323 customers)\n",
    "# CORRECTED: Use .copy() to resolve the SettingWithCopyWarning\n",
    "no_renewal_df = df[df['ContractRenewal'] == 0].copy()\n",
    "\n",
    "# 2. Define the two key subgroups within the \"No Renewal\" base\n",
    "no_renewal_df['Service_Friction'] = no_renewal_df['CustServCalls'].apply(\n",
    "    lambda x: 'High Friction (>= 4 Calls)' if x >= 4 else 'Low/Moderate Friction (< 4 Calls)'\n",
    ")\n",
    "\n",
    "# 3. Calculate Churn Rate by the new, clear group\n",
    "final_vis_data = no_renewal_df.groupby('Service_Friction')['Churn'].agg(['count', 'mean'])\n",
    "final_vis_data['Churn Rate (%)'] = final_vis_data['mean'] * 100\n",
    "final_vis_data.columns = ['Total in Segment', 'Mean Churn', 'Churn Rate (%)']\n",
    "\n",
    "print(\"\\n--- FINAL STRATEGIC CHURN BREAKDOWN (No Renewal Customers) ---\")\n",
    "print(final_vis_data[['Total in Segment', 'Churn Rate (%)']])"
   ]
  },
  {
   "cell_type": "code",
   "execution_count": 13,
   "id": "5b7e59d3-820d-4f98-a2d3-5ce5c692d714",
   "metadata": {},
   "outputs": [
    {
     "name": "stdout",
     "output_type": "stream",
     "text": [
      "SUCCESS: The file 'final_churn_analysis_for_tableau.csv' has been created.\n",
      "You can now connect to this new file in Tableau Public.\n"
     ]
    }
   ],
   "source": [
    "import pandas as pd\n",
    "\n",
    "# 1. Load the original dataset (ensure the file path is correct if not in the same directory)\n",
    "# Based on your file list, the filename is 'telecom_churn.csv'\n",
    "df = pd.read_csv('telecom_churn.csv')\n",
    "\n",
    "# --- Re-run Data Cleaning (Only needed if you restart the kernel, otherwise safe) ---\n",
    "# Check for and handle the common issue where 'TotalCharges' is read as an object/string\n",
    "# df['TotalCharges'] = pd.to_numeric(df['TotalCharges'], errors='coerce')\n",
    "# df.fillna(0, inplace=True) # Fill NaNs with 0\n",
    "\n",
    "# --- Re-run the critical Feature Engineering for Segmentation ---\n",
    "# 2. Add the 'Service_Friction' column to the main DataFrame 'df'\n",
    "# Note: Since the 'Service_Friction' column is only meaningful for non-renewing customers, \n",
    "# we use the .apply() method and it will be NaN for renewing customers (which is fine for the Tableau filter).\n",
    "\n",
    "# The segmentation logic from Phase 5:\n",
    "df['Service_Friction'] = df['CustServCalls'].apply(\n",
    "    lambda x: 'High Friction (>= 4 Calls)' if x >= 4 else 'Low/Moderate Friction (< 4 Calls)'\n",
    ")\n",
    "\n",
    "# 3. Export the final DataFrame to a new CSV file\n",
    "# This creates the file you need for Tableau\n",
    "df.to_csv('final_churn_analysis_for_tableau.csv', index=False)\n",
    "\n",
    "print(\"SUCCESS: The file 'final_churn_analysis_for_tableau.csv' has been created.\")\n",
    "print(\"You can now connect to this new file in Tableau Public.\")"
   ]
  },
  {
   "cell_type": "code",
   "execution_count": null,
   "id": "38490967-13a3-43fd-8d5a-597ecf593aab",
   "metadata": {},
   "outputs": [],
   "source": []
  }
 ],
 "metadata": {
  "kernelspec": {
   "display_name": "Python [conda env:base] *",
   "language": "python",
   "name": "conda-base-py"
  },
  "language_info": {
   "codemirror_mode": {
    "name": "ipython",
    "version": 3
   },
   "file_extension": ".py",
   "mimetype": "text/x-python",
   "name": "python",
   "nbconvert_exporter": "python",
   "pygments_lexer": "ipython3",
   "version": "3.13.5"
  }
 },
 "nbformat": 4,
 "nbformat_minor": 5
}
